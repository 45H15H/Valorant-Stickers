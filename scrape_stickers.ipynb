{
 "cells": [
  {
   "cell_type": "code",
   "execution_count": 2,
   "metadata": {},
   "outputs": [],
   "source": [
    "import requests\n",
    "import re\n",
    "import urllib.request"
   ]
  },
  {
   "cell_type": "code",
   "execution_count": 3,
   "metadata": {},
   "outputs": [],
   "source": [
    "stickers = requests.get(\"https://valorant-api.com/v1/sprays\")"
   ]
  },
  {
   "cell_type": "code",
   "execution_count": 4,
   "metadata": {},
   "outputs": [
    {
     "data": {
      "text/plain": [
       "<Response [200]>"
      ]
     },
     "execution_count": 4,
     "metadata": {},
     "output_type": "execute_result"
    }
   ],
   "source": [
    "stickers"
   ]
  },
  {
   "cell_type": "code",
   "execution_count": 5,
   "metadata": {},
   "outputs": [],
   "source": [
    "# save the stickers.text in a file in binary format\n",
    "with open(\"stickers_2025_jan.txt\", \"wb\") as file:\n",
    "    file.write(stickers.text.encode(\"utf-8\"))\n",
    "    file.close()"
   ]
  },
  {
   "cell_type": "code",
   "execution_count": 6,
   "metadata": {},
   "outputs": [],
   "source": [
    "# read the file in binary format so that we can use regex to find the urls\n",
    "with open(\"stickers_2025_jan.txt\", \"rb\") as file:\n",
    "    content = file.read()\n",
    "    file.close()"
   ]
  },
  {
   "cell_type": "code",
   "execution_count": 7,
   "metadata": {},
   "outputs": [],
   "source": [
    "regex_uuid = re.compile(r'\"uuid\":\"([\\w-]+)\",\"displayName\":\"([^\"]+)\"')"
   ]
  },
  {
   "cell_type": "code",
   "execution_count": 8,
   "metadata": {},
   "outputs": [],
   "source": [
    "# find all results\n",
    "results = regex_uuid.findall(content.decode(\"utf-8\"))"
   ]
  },
  {
   "cell_type": "code",
   "execution_count": 9,
   "metadata": {},
   "outputs": [
    {
     "name": "stdout",
     "output_type": "stream",
     "text": [
      "[('3d2bcfc5-442b-812e-3c08-9180d6b36077', 'Caught on Camera Spray'), ('81c68821-46d3-9176-294c-abba0bc64e0b', 'Chicken Out Spray'), ('06351c4a-4a93-793e-f5c9-2fa675359a93', 'Defy the Limits Spray'), ('0eb56d06-474d-fbec-372f-069286388bc5', 'G.O.A.T. Spray'), ('d52d5d56-46a7-957d-418d-e3b2b3bd6938', 'Sad Crab Spray'), ('677dc003-4dbf-66a8-9116-4f8d7a9fb8d5', 'No Time Spray'), ('2b2ae992-403a-f063-64e6-1dbaee43c95a', 'No Toxicity Spray'), ('7cf85d79-4912-ccb9-fa59-f28e065ae9d5', 'Dark Side Beyond Spray'), ('d4ceef7f-4e99-70d8-ac85-14850ac08cd3', 'Dap Team Spray'), ('4c08026b-4f56-9494-0d71-3dbb291c4d7f', 'This is Also Fine Spray'), ('82ffcc4c-4195-5399-5d70-f7b1cdd16e37', 'Little Onion Lad Spray'), ('936f33fb-49d9-277c-496d-cd9ef04a34cc', 'Cheaters Never Prosper Spray'), ('83cf10b1-42ef-e339-97c6-169f46504733', 'Wanted: Tactibunny Spray'), ('2527155b-4ba6-632b-c745-71900a25ab80', '8-bit VALORANT Spray'), ('89565f02-495e-e6f0-5f67-959626122909', 'GGWP Spray'), ('78cf178d-4165-43b8-1ecf-f78771505af9', 'Mic Drop Spray'), ('9d7df4cc-4311-42da-1220-2c9f3bc8c2cc', 'Step Under Here Spray'), ('04251d6a-4548-856b-5ea1-19b01783c430', 'No Op Spray'), ('75b2f43a-4154-a1dc-1c6f-edb5fe224b2a', 'Piece of Cake Spray'), ('e279312d-4321-5194-13f5-6897b0a005cf', 'Pick My Strat Spray'), ('5972097d-4904-9c86-03c6-e2878c1f0719', 'Octorave Spray'), ('4ca4b72d-4eb4-3a3e-0079-06a31dc06b9b', 'Stellar Dendrite Spray'), ('43341e92-451f-c194-b4f6-0b926bdc3643', 'Thumbs Up Spray'), ('5d6cadda-42c3-1cac-94d3-458917f5cb2c', 'Stay Safe, Wash Your Hands Spray'), ('8035dd5d-4ddd-5dbd-165c-9886574fdff5', 'RGX 11z Pro Spray'), ('3db4ad9c-4a92-d8b0-a5a1-008a7c67d699', 'RGX 11z Pro, Ep 4 Spray'), ('7e4984e0-4ec8-5dd8-acd7-2cbc960116a9', 'RGX 11z Pro, Ep 9 Spray'), ('cd56a893-44f1-2b56-a477-08a9652c66f8', 'Fierce Form Spray'), ('eb91c1e4-4553-a885-e9cc-1a9db6a8b344', 'Gekko Spray'), ('93a69ca4-4422-1e2f-d7e0-3baa04b745fd', 'Creature Crew Spray'), ('32df08b6-4d6e-d642-b57c-fc915063418b', 'Here I Am Spray'), ('2734619d-4c78-5a1f-4393-ba899fed0651', 'Bazooka Badger Spray'), ('852a4e5f-4965-27e5-01ac-76896c216801', 'Dance Fever Spray'), ('4cf0fafa-4f29-48c7-7495-47b5ac483514', 'K.nock O.ut!! Spray'), ('8b7154e2-4453-2515-0867-62a1075b03ad', 'Gaia\\\\u0027s Vengeance Spray'), ('a418d89e-49af-141e-4edd-de9ec79c34da', 'Gaia\\\\u0027s Vengeance, Ep 7 Spray'), ('a5ecf58a-44ce-75f6-abf7-bfb616c12f59', 'Spectrum Spray'), ('35d8fb90-49a9-641e-ff08-b4bc20421908', 'Boom! Spray'), ('e42f668f-4829-10af-02ca-4abf7fa74fb5', 'Fade Spray'), ('da32f415-4593-dba5-e09c-9fb6af3325e0', 'On the Prowl Spray'), ('7a46d7de-409e-a15a-a052-89a6808eb549', 'Eye Opener Spray'), ('a05c50b7-4a1d-c2de-e1e7-ac8a7730daa4', 'Breach Spray'), ('dcc8f0df-46b9-0a3e-7a0f-74a7558ddafc', 'K.O. Spray'), ('92641409-4113-b674-f95d-fc85f29bf921', 'Guns Out Spray'), ('36ee876c-4918-69c7-9ce4-9dac0b4b929a', 'FTW Spray'), ('634aaf2f-4f08-aef2-5f97-f5b5b939d6ad', 'Ignite: Huang Spray'), ('53ab4493-4b0b-07d4-3dd3-92838abc99e5', 'Ignite: Feng Spray '), ('2ec48842-4a7e-c15e-4d6a-18a50ac0f124', 'Deadlock Spray'), ('5d9b029f-4321-2025-65a9-02a774d498f4', 'Crossed Wires Spray'), ('656d82ab-499e-fc2d-5cf9-229a9699a882', 'Cyber Oak Spray'), ('71e8fdca-4099-af1c-fabf-09a35684e2d0', 'Camper Spray'), ('500da6bd-4cf1-3362-be2b-1487ec286b91', 'Excuse Me? Spray'), ('6337b11c-4e2e-e466-ae0a-4882e0fbb8dc', 'Steal The Win Spray'), ('8080ba65-4089-3487-dcf5-f298be03a470', 'Gekko Diff Spray'), ('575c6de8-4c1b-59ed-12ab-c9b400f5a96a', 'Champions 2024 Spray'), ('06099513-40e7-5c2c-998f-cc9e345446bd', 'Octobuddy Spray'), ('254e3d77-40b8-cfae-232a-f7a36ee27d61', 'Cheesy Shot Spray'), ('186cadc9-4356-bcae-4cbb-ce83f8b15e4f', 'Raze Spray'), ('32fc4bfd-4897-ce74-55d2-9bb008f0decb', 'BoomShaka Spray'), ('a64b8eda-4920-434a-5346-30bfb1b58e39', 'Bombshell Spray'), ('25d82d17-4739-e206-e8aa-d1bd4fd4dae6', 'Explorgi Spray'), ('3398fb0d-48bc-ccfd-ce92-58b694650bb4', 'Nocturnum Spray'), ('fd3ca227-433a-63e9-1050-ca878b4182f1', 'Doombringer Spray'), ('ee9aebf4-4cc7-8fe8-022b-1c8f50500e7b', 'ChronoVoid Spray'), ('32570250-4795-981d-bda7-34963aa042f9', 'Danger Spray'), ('90b297b4-4e8f-f87c-8008-36905268fe52', 'One In The Chamber Spray'), ('1be33c9a-48a8-5aa8-3798-3989c40c96e1', 'Chamber Spray'), ('2ebcf963-4e55-e39c-d1aa-94ad6ec87424', 'Seeing Double Spray'), ('0a6db78c-48b9-a32d-c47a-82be597584c1', 'VALORANT Spray'), ('5492634a-48f8-1f15-19cb-beacabcb0a4e', 'Prelude to Chaos Spray'), ('e8a8c717-4845-3c69-9c16-d8a78153c51d', 'Bruno Coin Spray'), ('8f9caa22-4dd6-5649-1007-0bbaf7001c04', 'Doodle Buds // Tactifriends Spray'), ('bbdcf328-4f71-3c0c-7830-568913236d35', 'Doodle Buds // League of Legends Spray'), ('2e7b49d2-4022-a474-1feb-91872e6e2523', 'Doodle Buds // Agents Spray'), ('0221e96d-49be-a601-52d6-ef8270773276', 'Elderflame Spray'), ('3036069d-46c6-98ca-759f-9bb7f4c9ba15', 'Quack!! Spray'), ('229d49b4-4e8f-cb5a-12c9-39a5ed45e7ed', 'Imperium Spray'), ('01d4de2a-4eda-dbed-2051-4cabb86d7c26', 'That\\\\u0027s a Blowout Spray'), ('1a617656-4208-9da3-98c4-be8430df45ca', 'A Perfect Score Spray'), ('f52e0361-444e-b8b6-f549-8787f396c662', 'Just Jokin\\\\u0027 Spray'), ('b13c2ff5-4059-c411-1cf1-d5827375024d', 'Trailblazing Tiger Spray'), ('40208cd8-4217-8b62-b9fb-7fa6dd266d34', 'Cool Joy Spray'), ('6e035225-4ef8-0004-f8cd-b6bf278ea9d0', 'Waddle Walk Spray'), ('16f7cea0-4bfe-dc59-42a3-9f90387f6071', 'You Wanna Play? Spray'), ('8a1d9314-4c0d-16dd-da83-0b819c668987', 'No Duelist No Problem Spray'), ('3a1ba136-4c17-ed2f-9899-4690a2c4294d', 'Never Forget Leg Day Spray'), ('a2565f52-46b8-e3a7-efc1-eaa74c019eb2', 'Neon Bot Spray'), ('56d0f84d-4b57-844f-4159-9390b6967fe5', 'No Spectre Spray'), ('f3f30bd8-493e-c4bb-fe49-44bb87eee2d6', 'Nosey Neighbor Spray'), ('dc75fa75-438d-c536-8080-f385cf5b0609', 'Winner\\\\u0027s Ribbon Spray'), ('98d3d8a3-46e2-d7c8-acbb-d4b818fc5bdf', 'Sage Signal Spray'), ('9db4721a-4eac-47f7-8805-31b79f2103f3', 'We Can Do It Spray'), ('891758c9-4723-b867-2f9c-60ae7859388d', 'Dream Team Spray'), ('20804618-4c6c-3592-0356-ce883c0b3ba9', 'Who\\\\u0027s That Blind Spray'), ('7d295a08-4a23-e073-cf96-6993c89229fe', 'Definitely Not It Spray'), ('a44ca875-40c6-a0ee-7bb4-ca8d0fa0da2c', 'Last Person Standing Spray'), ('49aed04f-4253-3f4f-52b8-00bc6ee51ea1', 'Perfectly Roasted Spray'), ('bef136fe-4494-5916-f93a-1db1af3ca10d', 'Good Fortune Spray'), ('7784e803-4fb8-830c-742d-b39e2a0f717a', 'Oh No Spray'), ('cf146552-44bb-18ff-e68a-b584b6165379', 'No Bullets Spray'), ('472693f9-4d87-416b-9def-3fbe2d310cc0', 'Network Error Spray'), ('4692c883-4a7e-c8b9-9e4d-79a25ef14763', '9 Lives Spray'), ('bf0a475d-4e34-8c67-8533-eea86f459a26', 'No Worries Neon Spray'), ('6550c96f-491d-7e4c-e923-84bf433d0b3f', 'Shock Heart Spray'), ('c3bee812-4eca-11af-2295-feb833077703', 'Drop Skin Please Spray'), ('6a54a0b7-4392-537d-28b0-17876973171b', 'Gridcrash Spray'), ('de79e31c-4f93-35e4-795a-c798156106ae', 'Oh Yes Spray'), ('01060c4c-4e05-cfa5-dc3a-b38b6ac0bb58', 'Blueberry Spray'), ('ff4f634c-42f4-77bc-0811-b79681910c8b', 'Spicy Spray'), ('78302cd4-4cb9-ba9b-562f-28baa9f827d7', 'Hershey Pup Spray'), ('505ce49e-4100-9796-de78-ed9159cd5a73', 'Choose my Weapon Spray'), ('3eb04b78-4968-8e81-4857-b395dbc144f7', 'Glitch Out Chicken Spray'), ('5297a45a-4ca0-dff0-1229-4bb9e851d924', 'Make \\\\u0027em Dance Spray'), ('160c29cc-4595-6487-8e34-2591408063d5', 'EZ Spray'), ('6e6a3872-447d-c457-b02a-b78efddea902', 'Going C Spray'), ('87c0b8c9-4b11-2e9a-95fe-ad94cf102d85', '\\\\u003C3 Spray'), ('76b3ea83-49b6-a6b8-6ab5-19bfa33445fd', 'Lit for 140 Spray'), ('41b99cd2-439d-f2cb-24e6-e4af187e884f', 'Faces in Places Spray'), ('1daadd56-4c58-e8e7-a5ef-2ab855a7ddb9', 'No Shorty Spray'), ('f20b1abe-478b-9a51-590c-30b08181fd79', 'Radianite Hazard Spray'), ('2ef94d62-44de-d9eb-ea36-4aa28418cbed', 'What was that? Spray'), ('8b6565d0-4dca-d308-d121-749ec36cb1c1', 'Alas, poor Robot! Spray'), ('a78eb46a-4d66-4683-9a77-02adae482146', 'Make Some Noise Spray'), ('101bfb95-40b3-de3d-fc83-65870bbc2933', 'Chill Out Spray'), ('1a2baf70-43cd-84f5-2dea-f49b9173c700', 'Is This A Drone? Spray'), ('140243d9-46a3-bd69-6bbe-9c918324f628', 'Shhh! Spray'), ('d9085f5d-4d34-aaf1-03ac-aebc8f4e7ea4', 'Do Not Enter Spray'), ('3da0e460-4f94-92db-4a57-66b0ba605a2b', 'Dumpster Fire Spray'), ('08c614b3-495b-c68d-4c1b-d59fd3cb2628', '/FF Spray'), ('cf86b6e6-498d-196c-6a1f-d4b162aa649b', 'Epilogue: Super! Spray'), ('501b7d18-49f6-8467-759f-66abf39c98d6', 'Embarrassing! Spray'), ('d576bf1d-4eca-8010-0a12-ccb44bd72226', 'LAG! Spray'), ('f1a0e638-4b6e-b521-f9e8-67b2ced8826f', 'Happy Frog Spray'), ('9526bc9a-43bc-3807-f2be-be85e14eb908', 'MY EYES! Spray'), ('0acc3505-4e1a-7d1f-2340-90b199ab81f4', 'Revive Me, Jett! Spray'), ('2acf4141-4c32-f916-25c4-91843376c083', 'Super! Spray'), ('ecba2299-4e4a-0ca7-a194-95a4c92f3f4a', '\\\\u00AF\\\\\\\\_(\\\\u30C4)_/\\\\u00AF Spray'), ('6f252a61-4a8e-b2f5-f48d-5699a32bdc79', 'Nope Spray'), ('94dc31dc-48b1-8279-ff69-f8828bbc7382', 'Approved! Spray'), ('fd92bdcd-4ae8-861e-843a-05a8113a4d11', 'Lobster? Spray'), ('043970f9-47ae-c73a-3de1-f291769fda0f', 'Theo\\\\u0027s Great Escape Spray'), ('ed3208ac-454a-43a0-e77a-6e83328ddf0c', 'Bunny Hop Spray'), ('9edcb43d-4102-0dfc-3784-19a927a76968', 'Without a Trace Spray'), ('cbcd99a5-49db-d39f-a060-67a781d1605a', 'Dabbing Dan Spray'), ('1e3bcf29-4962-aec9-47a7-769c58244042', 'Epilogue: Dabbing Dan Spray'), ('34d69ab8-4729-9824-064f-269e1311db63', 'Comedy and the Tragedy Spray'), ('6961433a-41ca-dc53-06b1-7294c28dece0', 'Songsteel Spray'), ('e3b99844-449a-d21b-0612-8c95e74d7d9f', 'Hang in There, Mance Spray'), ('4352547a-41de-277c-6083-0ea12bf04ff6', 'Nice Save Spray'), ('790f632c-4d0b-deb0-4277-12a8d35e533f', 'Be Gone! Spray'), ('f1a8c241-4e08-143c-fd32-15b7f8b1dcf6', 'No Odin Spray'), ('7e070612-47d5-7ef6-e167-89b578528a4b', 'This is Also Also Fine Spray'), ('e4514582-484a-c820-33f2-fc80bcab7a4b', '300 Spray'), ('b3618996-4966-691c-e8a5-758f500d0992', 'Walk! Don\\\\u0027t Run Spray'), ('3b2e3697-4023-278b-ae20-5da954a832ae', 'Hardstuck Spray'), ('2df9762d-452d-0c80-d1f3-12aa8f6ebcf3', 'Clutch or Kick Spray'), ('126a3693-4195-77e3-6ef7-94a1c7e082ec', 'Cracked Spray'), ('83b783ac-4c70-fd83-98b7-97b87bc99e44', 'Epilogue: Cracked Spray'), ('9d205163-475a-eb0e-e71d-878635cabce6', 'Greatly Decreased? Spray'), ('ce1590a8-4af4-e665-4898-b799dfce8be3', 'Sands of Time Spray'), ('5b3640d5-4a49-e9b2-cbac-0ca090f66d75', 'Killjoy! I Choose You! Spray'), ('9916ef0d-4227-482e-7c6a-7f8714562859', 'Max Money Spray'), ('0a34476a-4329-0d04-e196-c9bccb97ce7f', 'No Guardian Spray'), ('7176cc5c-4aa7-3bbe-6dae-168b22607398', 'No Pen Spray'), ('8f25fdc5-4652-bed8-bce6-4f8833b00864', 'Sand Sculpture Spray'), ('0f20c96b-4865-2440-efea-d38eb1d2bf01', 'Sova Says Sorry Spray'), ('7ad73709-4692-decb-ebea-31b637657065', 'Surprised Penguin Spray'), ('36bfc92c-4bdb-1efd-7b72-e6b54ba12293', 'Pump Action Spray'), ('069f15fc-4893-a91d-6621-ffb4a9f552be', 'Too Heavy Spray'), ('a9b0e97f-4acf-c6fd-2e5d-41a74a79266b', 'Greatly Increased? Spray'), ('3fbf799a-4a5f-c37b-4bc7-b5ac4289efc4', 'Promises Kept Spray'), ('c5bba4e4-4cdc-2274-a025-29bf1c8607a2', 'Yikes Spray'), ('4d9b1ba7-4b2c-2dbe-d096-1d8ccc7f19ed', 'Hooked Spray'), ('df184a83-4907-a21a-e6dd-63bdc4c09aad', 'Crispy Spray'), ('465bcd94-4f71-239f-6942-f09e8f7ea836', 'Does Not Compute Spray'), ('271896c9-496b-8c89-962f-59a9ed3f4ffa', 'Hold Up Spray'), ('a8765b06-4131-5be0-575a-e288cfa904a8', 'Love \\\\u003E Hate Spray'), ('7b7d8884-408d-42e8-065a-34bc04f61d61', 'Nice Try! Spray'), ('1eb88a38-441f-9e7d-892d-8dac60188a0d', 'No Judge Spray'), ('1a343da1-49f1-a191-cf62-3ba0f1d37830', 'OTL Spray'), ('6d1c6efb-4214-d5a8-e78b-288b684dc897', 'Artisan Spray'), ('c24dfff4-4204-0626-4cd2-bc9d6a09cab3', 'Trust in My Healing Spray'), ('21493303-4fb8-a31a-f1b7-1c91192289ac', 'This is Not Fine Spray'), ('0e8a196f-49e6-20ae-6c26-6aafa85ec319', 'To the Moon Spray'), ('05a53692-4412-6598-d007-3e9d6aa8eacb', 'Not Impressed Spray'), ('b4b684bd-40bd-15b2-86b5-3b827a636090', 'Volunteer Spray'), ('f77f4732-4ae4-3727-d246-27b0026b53b6', 'Scavenger Spray'), ('a4a80636-4e39-3dff-9611-1b8553c36c11', 'Mance on a Broom Go Zoom Spray'), ('8f67bf99-4572-de1e-a421-1d80e3713c36', 'It\\\\u0027s Lit Spray'), ('60815a79-486d-cc57-f243-e0a24a158c69', 'Goldwing Spray'), ('8ad54d24-47e1-1f1b-f089-81880bf0b1ac', 'Countdown is On Spray'), ('a4b5164e-45d7-4b4c-c89f-df8709609e0e', 'No Bucky Spray'), ('0cabc8f7-44df-dc8d-fca8-16bc8669ba0b', 'With Love, Reyna Spray'), ('25087535-473e-756c-c404-18ac7e55ef87', 'Sad Yoru Spray'), ('58b7b10e-4dd4-24e7-2910-378a02c2c4e0', 'Trevor Gets It Spray'), ('7c72a937-4c1e-3592-cf79-46b5b5ca7c63', 'Turn it Up, Rudy Spray'), ('ccfc5b93-478c-403f-5217-2ba1657428c9', 'Plant Plant Spray'), ('addef5b3-4039-e9ba-b3dc-76a83cf33151', 'Sugar Muffins Spray'), ('67a64aa6-44a2-022d-4883-8d8587f24c3d', 'Take My Creds! Spray'), ('ec6f800a-42d0-563e-31d3-21a8fcd391ba', 'This is Really Not Fine Spray'), ('08a013c9-4f27-ac03-aa21-7e83d824d945', 'Bad Hair Day Spray'), ('2f3e8a40-4bdc-0718-3517-978da1bf675a', 'Sweetest Match Spray'), ('34e36ad8-4b3b-0e30-7ca9-c6bcce709e0f', 'Head Slapper Spray'), ('0dc378e3-4936-7c9f-a1ba-fd90999b3a10', 'A Prime Valentine\\\\u0027s Gift Spray'), ('8ada4719-4769-159c-cb94-44ad49834b25', 'Hydrodip Spray'), ('aa658907-4bb8-07b9-c17e-828d62b8ce78', 'Jett-Bot Spray'), ('1f6bab1f-4459-fbd0-ac15-27a993144f21', 'Lost Connection Spray'), ('16c43be1-452b-8bbc-a9f2-629ded0697dd', 'Agent Down Spray'), ('8b820b5b-4988-4385-610e-d7923724de68', 'What\\\\u0027s That? Spray'), ('a8ea5a21-4dba-be95-6839-89ba93be84b6', 'Potato Aim Spray'), ('e1f12119-480e-5979-a1c3-b98fc17f10a9', 'Missed a Spot Spray'), ('bf750412-4514-9e90-c279-feb8919d3824', 'Shoot Here Spray'), ('b36b1182-4cf2-ecbf-3146-fbac3ee73348', 'Use Ult Spray'), ('f165025c-4113-9b61-4465-ed956e4533e2', 'Woke Up Thinking Lineups Spray'), ('68d4f0b2-48fe-2514-2924-36b4a2cf5e62', 'Bruno\\\\u0027s Happy Dance Spray'), ('e4a8fb80-46ae-90ef-c633-0ead0f011001', 'Hang Loose Spray'), ('84ba844f-4240-8c16-4851-2ba490104728', 'Crying Mance Spray'), ('c241d046-426e-3f3a-8507-5cbf7ea684dc', 'Capsule Collector Spray'), ('5f5725b2-40b3-a5f6-0e91-01845c25e534', 'All Aboard Spray'), ('15e84d29-480e-910b-53c3-ab85b8ca852a', 'Matcha Break Spray'), ('b83adc4b-4566-6601-c460-039e9e78ac3f', 'Pros Don\\\\u0027t Fake Spray'), ('1521f1a0-40e9-bc68-e2f0-87b053418b82', 'Sheeeeesh Spray'), ('d725e767-4d73-a5a6-bb37-8c82cf3555cc', 'Slipping Away Spray'), ('c97f9381-4784-e244-dffa-9bbe2b359012', 'Stop! Spray'), ('81a09bea-4868-454b-5732-3f83b397447f', 'Tactibear\\\\u0027s Balalaika Spray'), ('9c8143d5-467a-5ffa-1dde-f6b35411e15d', 'Take a Bow Spray'), ('2290b465-491f-2566-aa81-af83fa3e3036', 'Many Thanks Spray'), ('3d79a7d2-4883-4394-13a5-f5ba3f16d86f', 'Splitting Melons Spray'), ('7f36b59b-436a-f72b-1560-ec83c5f0a72f', '#SAVEWIDEJOY Spray'), ('beeafc3b-49f8-d5e6-dbd4-b791c9ce91fe', 'Epilogue: #SAVEWIDEJOY Spray'), ('0e399ff1-44be-3289-23aa-5082090912fd', 'Caution: Blinding Bird! Spray'), ('bae38782-4d0a-1e95-52a4-9ca8059ba6d2', 'Cap? No Cap? Spray'), ('f3788407-4ecf-4d91-72d5-63a9ec8c92dc', 'Bawk Bawk Brimstone Spray'), ('ba0a3fdd-4f01-6766-a4c7-348bea8764bb', 'Keeping Secrets Spray'), ('47dfa1e6-43f8-5eab-7e4f-5f8f62158104', 'Backseat Coaching Spray'), ('3ce8ebdc-435a-b6fb-c2f3-8e9877551a31', 'Heaven or Hell? Spray'), ('c6b77fc4-4f49-9259-04a4-b68ad4c3f910', 'I Have Three Creds Spray'), ('0020abc7-41ce-d2f9-db8a-0b90e5a64547', 'Charge Needed Spray'), ('d0e2ca19-4329-9ef1-f2ed-4ca2150749fc', 'Look Behind You Spray'), ('13b93799-4498-7429-2bef-9d8c36c23e27', 'Coalition: Cobra Spray'), ('a71132dd-4f49-c391-fa4a-2fa410cd9b4b', 'Pretty Pretty Please Spray'), ('f917c3a1-4349-9335-4864-46806eb8c764', 'It\\\\u0027s Stinger Time Spray'), ('89cd9d61-41c8-156a-6b07-b5af51aaf07f', 'Epilogue: It\\\\u0027s Stinger Time Spray'), ('3b1a23b5-4119-3c68-27ed-3e85510c954e', 'Terrible Day for Rain Spray'), ('41566c1b-4d7b-2cba-dd5a-01abf2d67242', 'Don\\\\u0027t Watch This Spray'), ('73292c82-4718-ad6e-0ae1-42a8f208b968', 'Skeptical Viper Spray'), ('e8d3de82-4bef-c14a-d8b9-aab7a125b4e2', 'Immortalized Spray'), ('c7d15108-42bb-dd70-4eb7-c29e705bf9e8', 'Hide the Pain, Brimstone Spray'), ('91463c73-4553-5736-8ea4-97bc58df62fa', 'Piedra del Sol Spray'), ('a56ccd58-4eda-21b3-ec0c-1ea9fa873fbe', 'Unamused Chamber Spray'), ('2c640eed-4463-0de1-4733-ccb96df51879', 'Phoenix Rise Spray'), ('919b23a7-42fa-ef0c-adbe-438351a90687', 'I\\\\u0027ve Been Hit Spray'), ('8a1b7f3e-4499-53a3-2ef2-8d8d5c851381', 'Hehehehehe Spray'), ('72f818b8-4efb-ed8a-fc36-90a780bd1255', 'Let Me In Spray'), ('5e16f6fa-4b5e-05e9-2cbd-c5a7dfda0901', 'No Sentinels Spray'), ('c0d282f7-4659-7699-4dd9-6c8364791d7f', 'Very Sneaky Spray'), ('a39f1e29-4079-8ae4-8a50-6aafe9f61c0a', 'Raze has Range Spray'), ('a1895f5a-4718-1654-3214-52a59fcad821', 'Guess That\\\\u0027s It Spray'), ('336a188d-4855-682f-071c-7d89517ab041', 'Blasting Away Spray'), ('785990dc-4cbc-5e49-09e7-ac8415093a6d', 'Choose Your Match Spray'), ('3eb2d891-470b-c4aa-654a-0ebd4d94090f', 'You Are Here Spray'), ('1dab3f4e-49f5-7e5d-f654-daae8772fc41', 'Sketchy AFK Spray'), ('1cab25c9-4b3d-5dad-3be9-b395bccf13e0', 'Simple Instructions Spray'), ('78d6be00-4cb3-a38d-8d8a-108afa75b678', 'Hawk Out Spray'), ('dc5edd15-455d-1782-7ee3-a294a6a3d293', 'Always Watching Spray'), ('3f8324c0-4f94-425a-1b31-56b4bcdd59b1', 'Fascinating Spray'), ('81c97a7d-4d76-38df-2e66-42a916fb811e', 'Breach\\\\u0027s Approval Spray'), ('14b3b3f7-4733-7802-3978-17ae5f97c184', 'Mind Blown Spray'), ('91ff04cf-4b54-8a65-b042-53a069ef0a2b', 'No Vision Spray'), ('935b114a-4b19-2e03-202f-3b84d6916647', 'Treat Those Burns Spray'), ('80cf0ffc-4810-7d4a-a791-c88e4ea9276c', 'Fill Your Card Spray'), ('38b459ee-46f6-5f3b-147c-6a9492f667b2', 'I Sleep Spray'), ('b16b3044-4376-831a-574c-9299cee1b74f', 'Written in the Stars Spray'), ('081262e8-42db-ac4a-c94b-a89b623525c0', 'See You Next Round Spray'), ('1284b594-4bb8-7bce-8165-239757222cf8', 'Surprise! It\\\\u0027s a Tiger Spray'), ('30b0ab90-4cba-6c69-c7d2-f68b14574aa2', 'Unconditional Surrender Spray'), ('56edb899-4ae8-9f20-9412-21ae19ef368d', 'Huh? Spray'), ('e1c3bb67-41a9-a17e-f358-81a444bd0b2a', 'Dolla Dolla Bill Y\\\\u0027all Spray'), ('7cc58801-49b1-0759-59ed-52ac089d042d', 'Tug of War Spray'), ('bda40232-40e0-e770-7010-bda2aa8a278f', 'Wide Swing Spray'), ('48472eae-4a17-fd2a-fc59-58b97ef8184f', 'We Made it Spray'), ('640cf43e-40d7-2ddc-4d8c-909d9f0e1176', 'Well Played Spray'), ('22ae8535-40b6-95a3-c5b1-98a184b8909f', 'Omen Cat Dance Spray'), ('4c8c6524-4a90-213d-b020-659e46560657', 'Let\\\\u0027s Go! Spray'), ('c11f8e1e-4024-4678-594e-a7b8385de3fb', 'Signature Spray'), ('a34661ab-4b04-c293-b30c-268b847ff381', 'Charging Station Spray'), ('f0e899e2-4b87-ef18-f1cf-84a1405cfa96', 'Scoop of Smoke Spray'), ('f50e5939-47ea-8080-2bf4-98a50f744119', 'Wanted: Tactibear Spray'), ('2bd71327-4ae5-c596-0e94-a9bb416f9828', 'Bye Op Spray'), ('3cc13114-46d5-fa3d-f102-69b4e3698e6d', 'Too Early for This Spray'), ('cb73ea04-4647-1539-03fc-b9bb01c61de9', 'Whaaat? Spray'), ('d7090a91-4aac-a474-cb34-3ba22a73e871', 'Am I Clear? Spray'), ('e18e2511-4b7b-c2af-2793-7db054c8773a', 'Peace Out Spray'), ('8852951f-4526-b079-cb81-71a31ac3db2b', 'Not Your Healer Spray'), ('256a2aea-4508-de29-b87e-1c8a40b0647e', 'Nothing to See Here Spray'), ('5b114143-4703-23d3-2dad-f492be9c4aaa', 'Bound Spray'), ('4230ded4-468d-d562-dac7-32ac1238df93', 'Already Locked Spray'), ('f0110ce4-4455-0e00-0b9c-7c81f4fbe159', 'Don\\\\u0027t Look Back Spray'), ('204af89d-4cd2-81ee-fc71-1eb870dcf620', 'Perfect Disaster Spray'), ('8e36348f-4c9b-0a2e-ee07-b98901ec32e7', 'Monstrocity Spray'), ('fcc32073-4d5f-5dec-dfbf-5d855dd5df44', 'I\\\\u0027m Melting Spray'), ('38e1d8d8-459c-af7c-0c20-e7b1ef229cc5', 'Omen Remembers Spray'), ('df47482c-465a-79b6-3b97-3ba3421f8114', 'Moondash Spray'), ('ec0a7c44-48f2-3319-8dda-3eb5de3a5d07', 'Put it on my Card Spray'), ('d80c7de5-4625-7ed6-f2b6-4eb4ec963717', 'Nice! Spray'), ('1e53f6f2-4691-f261-04d9-26b6836aae89', 'Whack a Squirrel Spray'), ('d5a2ef47-42e2-c3ee-d6e5-5a8915d40055', 'Composite Spray'), ('0e1d476e-4cb0-291f-324a-aa81aa39b591', 'Buy Me Spray'), ('9462b16a-4f3e-aa0d-4ea7-f2b700856c7c', 'Vitality Vial Spray'), ('6ceaa750-4211-0ea6-515e-30827ce32737', 'Digihex Spray'), ('8ea5d8f8-480a-472f-02f5-3a91ca6e1192', 'You Did What Now? Spray'), ('621543a9-45f0-60b1-0a13-33919a859eee', 'Close Call Spray'), ('6ef4d8e1-475d-97b3-e3fa-28b69359a671', 'Blush Spray'), ('31122f81-4df6-737c-1aa1-e59e1ab2f723', 'Smoke Maze Spray'), ('5774206b-4082-f2d1-aabf-57b1f756277b', 'No Credit Spray'), ('1b73d3d1-4b52-375a-eb71-569c42bcc240', 'Keep It Cool Spray'), ('23eea927-49d7-16d7-aee1-2bb44f283c8e', 'Pumped Up Spray'), ('534ea29c-4944-a755-6445-e4866d3d3f83', 'Role Denial Spray'), ('5d9fe2ce-4e8e-cfb8-982f-ac9b61f35f4a', 'Pancake Pile-up Spray'), ('ce53f1eb-433e-bef9-fb3b-25811fd9cdf2', 'Box Hijinks Spray'), ('07fa3add-4304-648e-2120-a8b9cae634f5', 'Rush Forward Spray'), ('69d2f762-42e6-da52-58fa-3285fb19549f', 'Crane Blossom Spray'), ('a31edf55-42aa-355a-cbb7-108340de30cb', 'Loyal Look Spray'), ('0a0b6c8f-4821-bb43-4d76-01931bef4c53', 'Exit Wound Spray'), ('690a7561-47fd-c460-cae1-2c9a6cdea43b', 'Wave Rider Spray'), ('466da1a3-4dd8-a63c-364b-8f806b30a605', 'The Great Responsibility Spray'), ('f760cf96-4cd8-5dc3-c67e-d996a793db68', 'Oh I See Spray'), ('aa0b10d7-4ca5-54ab-49e5-2ca893c153d1', 'Techie\\\\u0027s Trouble Spray'), ('b224ec30-47c7-b9a0-e764-899ac8c6b6e6', 'Scribble Squad Spray'), ('00a9ac92-4628-b92e-69bb-eaa799ca57d9', 'Purrfect Pat Spray'), ('15a3d098-42c5-9ca1-028c-e1a42d85a3c5', 'Panoramic Spray'), ('9b9ad52d-426c-e9a9-6e18-df882646fa55', 'Roll On Spray'), ('bd6c211b-4b0c-e557-3084-7bbffd8c3ee3', 'Transition Spray'), ('b85c679a-496a-2188-df96-7ba134422121', 'Defuse Deception Spray'), ('964ab501-499d-872d-66a3-14aacb5d3d42', 'Freehand Spray'), ('d7e96c11-403c-8c0e-782e-239546be7c9e', 'Power Punch Spray'), ('cf8410ec-49cd-18c1-adf0-bb8b28e32fab', 'There is Only One Truth Spray'), ('208fb08d-4765-7378-2b0f-39b55c8ffaab', 'Updraft Scare Spray'), ('51dc5786-4f73-8a5b-fd04-8eb6e78b9d74', 'Ego Boost Spray'), ('8990d3d8-4952-00cb-1951-518d4ebd5eed', 'Spark Shock Spray'), ('fb3cc952-486b-323e-4076-cf9485f0aff6', 'Splash Zone Spray'), ('310eea7d-42fd-9ef4-6968-d68d3e752ecd', 'The Big Bet Spray'), ('ef3977c1-4e22-e53e-d571-4ea8ed6e5fc9', 'Fragger\\\\u0027s Fall Spray'), ('ed787a44-4667-de20-5faf-f09a5da18c32', 'Libretto Spray'), ('fad2dc6b-4f97-33c0-3ecd-b19b17655bc8', 'Penalty Call Spray'), ('fc848c44-4472-8f1b-4887-4783043869f1', 'One Last Bite Spray'), ('75ac6543-4372-a9a9-cdcf-05af2ebb54ab', 'Silhouette Spray'), ('a2610dd4-47f6-df18-fbe3-1fae99ab6a62', 'Keep Your Paws Off Spray'), ('31545bf9-44c9-ec09-5a03-e2bbf3efa9b2', 'Sandswept Spray'), ('c5e3c41a-4663-c59f-9d84-2d932312ed96', 'Hide\\\\u0027n Peek Spray'), ('78750707-4ec3-75c2-54a1-e99d25b00a07', 'Break Time Spray'), ('086b736c-409b-f04d-52bf-80bea716cab5', 'Journey Bear Spray'), ('6ae4b80c-44a1-41a1-c240-fa97e9d2247e', 'Tactiplay Spray'), ('d5102a0d-4693-e217-98c3-0e86dcf80123', 'Just Another Wave Spray '), ('ca080c7c-4071-4211-d46d-5c8396aa04f4', 'Cup O\\\\u0027 Crown Spray'), ('8f82bdb1-4cf4-e69e-ae58-bb96a1e67a8b', 'Did You Drop This? Spray'), ('c746b2d3-491b-62f1-a40a-a4b77aa57f05', 'Another Dream Team Spray'), ('e82fcdaf-4153-3ad1-5c83-2cb67ca7bd29', 'Savory Spice Spray'), ('7479471f-434c-d608-7e41-0eb9fc7e4df3', 'Scribble Blade Storm Spray '), ('ece10c9a-4318-ad80-e1f0-6b9f974a4e66', 'Let\\\\u0027s Rotate Spray'), ('c16f59ba-400c-fcac-9337-a4a5c57487a4', 'Make It Rain Spray '), ('3910377e-4449-0f51-ceff-2b8e62d23241', 'Hearts Array Spray'), ('fc3c5d31-42c4-2073-f871-3f830c61c25b', 'Shocked Spark Spray '), ('8266fb6b-4cc1-e160-5d66-d382287df830', 'Cuteness Overload Spray'), ('de5772ba-4da8-0c50-a73f-46ae20ac0e3b', 'Hold Back Spray '), ('0ca3fdd8-455f-22d6-e853-5f9a04379d42', 'Elegant Evade Spray '), ('f2696063-44ea-6d2e-2b5a-a9ad723c9967', 'Awkward Breach Spray'), ('30abaa24-4dca-dd54-384c-ed8af78b03d9', 'Deep Breath Spray'), ('06521098-4ff1-6013-b308-11830e2d9896', 'Sentinel Slide Spray'), ('608726e8-440d-0276-6380-45b50e209f38', 'Sending Love Spray'), ('78dab453-4990-52f2-c08d-1ebf8e46b498', 'No Comment Spray'), ('37156c69-48c7-36e6-ebbf-0fb46c03f2c4', 'Aquatica Spray'), ('a94ff893-4edf-27d4-080f-6cbc6922c2ab', 'Double Tap Spray'), ('bba5a5c8-4c73-3310-8b18-56a99279d661', 'No Classic Spray '), ('4c271b07-44e6-49cc-5850-be8261d0361f', 'Downtime Spray'), ('ad5f8263-4434-b764-bfb7-49b145277deb', 'On My Own Spray'), ('3d22ebdf-4dc8-4576-7b26-8ba868976406', 'Shellspire Spray'), ('e3fe6d1d-4c3c-31f4-daca-4bbf4eb18112', 'Sneaky Stack Spray'), ('1ec7c777-45ab-a586-bbb6-f5b60a0b25a1', 'Drink Up! Spray'), ('416fee34-4589-b2bd-917a-08b1047f261d', 'UWU Spray'), ('ed488b56-408b-cf22-a54c-5e9c4da04612', 'Caught One Spray'), ('b56cb702-48f1-4368-ec7a-cdaf5b6194ae', 'Sip of Joy Spray'), ('90ce8d9f-4572-973a-98c4-0b84979ba08e', 'Comet Spray'), ('66b4e570-4794-a2e2-3df9-d5a1ac3fc6d9', 'Where\\\\u0027s My Knife? Spray'), ('ba1e4f8e-40a9-7c31-4475-f28386250ecc', 'Boomtastic Spray'), ('8bcc0822-429d-d8d2-27ae-21a50187506c', 'Tacti-Series Spray'), ('f74da4c5-4445-41cf-e0fc-5396919f47fe', 'No Bodyblock Spray'), ('8c825561-4083-9503-081d-409142591a6f', 'No Spray Spray'), ('0f79ac11-45d3-7963-a8ec-9ca6e310a815', 'NO. 1 Fan Spray'), ('f956e8df-48f0-2017-a61a-1cbc8712248b', 'Sure You Can Spray'), ('6f6ae8d2-4eb3-f760-06d2-749ec6eba03e', 'Go Team Go Spray'), ('b1655fe2-4110-97f9-e64c-d9a3dba23b98', 'Maybe Next Time Spray'), ('c60c4887-4eef-9efd-92e0-2d9ff2f00ae5', 'Cloudweaver Spray'), ('e6bd8660-4c7b-5989-12c8-c483d6f1236c', 'One Correct Answer Spray'), ('0d5ac29c-482f-1a31-eba2-bba3acb2c2c4', 'Go Again? Spray'), ('711fed4a-4ef5-3a31-1763-af96caec4d38', 'Wingman Wiggle Spray'), ('4ab3fc41-4402-8f65-0918-92aff7f0d4e6', 'Bumble Brigade Spray'), ('82ff6e44-4a1b-f8be-9b24-dda138449788', 'We Did It Team Spray'), ('6cccd7ef-404b-562d-8988-2aa3b62aefaa', 'Cover Me Spray'), ('03232e53-4706-728d-a85f-35828737322c', 'Guns On Me Spray'), ('8e4ff05a-4322-8832-d651-ee964a40d62b', 'Blinded Again Spray'), ('b1c60925-435a-3277-518f-66bff6420d74', 'Bubble Pop Spray'), ('0746dfcd-4705-f4d2-e285-d1903b357d4b', 'Ultimate Shame Spray'), ('65e1df93-41ac-b192-d791-3382491f58cc', 'Gotta One Tap Spray'), ('d9eeb430-4b1e-5cfd-6b7d-be9af6903783', 'Let Me Out Spray'), ('eca48b14-4c35-47f8-a6d3-9b87d635bcef', 'Prowler Pop Spray'), ('229ea6cf-4493-2f5a-f45f-d6937f9afecd', 'That\\\\u0027s Terrifying Spray'), ('e2c9ba93-48b3-5de8-4da9-4a92038d252a', 'Ain\\\\u0027t My Time! Spray'), ('56b58d21-49e0-b1d0-f31d-eda582a76d70', 'Power of Five Spray'), ('23147d60-4963-9938-e53c-1fb56affb339', 'Dream Squad Spray'), ('9d005dba-403f-7afa-913a-df91b98d818f', 'Convergence Spray'), ('2343c6f6-4496-acb9-2818-3489b4b2c4cd', 'Frequency Spray'), ('03ceec58-41e8-ef48-2acb-f9a97aebc04e', '8 Bit Astra Spray'), ('b25b1270-4e38-854b-ddcf-078ac8dc0a2a', 'Overlay Spray'), ('a4cd53a1-42f2-4a6e-f7b0-cdb359e8b8da', 'Silly Cat Spray'), ('70f790ae-4a51-4e43-f436-d88cb3a115bc', 'Great Big Hug Spray'), ('81ffb746-412a-e5ac-c0f0-5bb55010fddb', 'Scheming Cypher Spray'), ('49e7d49b-49b1-74de-49f3-3db3b611fc15', 'So Fluffy Spray'), ('05c17798-4191-68fc-a220-0b85a73ba856', 'Yoonseul Bear Spray'), ('ce8f706b-44d2-415d-4e11-dbb06d48a697', 'Yoonseul Frog Spray'), ('6240f448-41a8-ac20-86da-fcb0845519d4', 'Yoonseul Tiger Spray'), ('471a23a8-404e-eb33-5d32-8a936f148899', 'Noted Spray'), ('a08251f8-4d1f-8c74-ffcb-01adc91960d8', 'Around The Corner Spray'), ('18592d51-4b2d-c337-3324-65a9aeac2eab', 'Focusing Spray'), ('b1677298-46a1-615d-ea4d-1fa31efbbaa9', 'Bulletproof Armor Spray'), ('fbb1ea20-44c8-4181-36f9-ebabdb6e3695', 'Resting Wingman Spray'), ('8b88d7d2-4526-8aac-1f24-578a7df78068', 'Cosmic Guide Spray'), ('ac9e7659-4dfc-ca74-3537-9cbeb81a111b', 'A Gift Spray'), ('723367c6-444c-d204-3fe8-5588f7b8aaa6', 'Winged Gift Spray'), ('30bcc408-41eb-04d8-820d-368fe3c63b2e', 'Bulletbox Spray'), ('d726b8f1-40ad-f856-49f6-d9a46372c172', 'My Ult Orb Spray'), ('39ac6484-4095-f3c8-733d-688a419e61a0', 'Nanobreak Spray'), ('45caaf15-481a-b575-6941-b0b7ce833add', 'Mosh O\\\\u0027 Lantern Spray'), ('6e1cde23-4b53-d043-2005-af8479768ca4', 'No Controller Spray'), ('8521912c-4159-58e8-77d1-42baef459bde', 'Watch Them Run Spray'), ('67af5786-4cb7-f2d7-07c6-0d874ffff5ce', 'Pixel TactiBunny Spray'), ('0f2ddedf-47a8-9155-f570-30a3115e3744', 'Requesting Reset Spray'), ('75c2f052-4c29-ad98-3869-c8b99d0a0a84', 'Scribble Prowler Spray'), ('aa60c4d3-4239-d620-79c2-d8b4b0bbb35b', 'Torque Spray'), ('7d1e17b1-4d84-4025-d675-80916cdf21ce', 'Lonely Viper\\\\u0027s Pit Spray'), ('8bdb2a2d-4638-a6a0-83d6-ed904183d13b', 'Wanted: TactiPenguin Spray'), ('556008f0-41bb-d752-3747-1aabc73499c8', 'Champions 2022 Jett Diff Spray'), ('f9bcf120-42b6-6986-2acd-6aa87bab4089', 'VCT 2021 Spark Spray'), ('076630c8-4bc9-d953-eb13-6e81e341840c', 'Fakeout Spray'), ('d8cfce74-4bb8-42b2-022e-9dbf9d648823', 'Fist Bump Spray'), ('5e5fd29a-4e83-40fa-0012-e08470dacdd7', 'Team Ace // Jett Spray'), ('e3d197d4-458b-7e60-dbbf-378788cf4863', 'Team Ace // Phoenix Spray'), ('b57067d5-4d13-cd4d-7493-d386a2fc1cbb', 'Team Ace // Raze Spray'), ('87a73941-4739-acbf-5c94-63ab07cd68d6', 'Team Ace // Reyna Spray'), ('db44205d-4b22-cf8a-cdee-a49fcf754ce3', 'Team Ace // Yoru Spray'), ('b520005e-42cf-169c-ab30-a7a60d7f29f1', 'GG Shooter Spray'), ('6983ae7c-4cb5-835c-8f62-b7affbaae20e', 'GLHF Spray'), ('777dd75b-4de9-1c2f-a645-e2a6df175838', 'Give Back // 2022 Spray'), ('78cc63ef-4789-3a69-49f6-f7b43b07b29d', 'Give Back // 2023 Spray'), ('6300dcf4-40d5-6d89-e46c-878052e3deea', 'Give Back // 2024 Spray'), ('41450726-4566-aca7-6b98-8d9fcd9105d7', 'Drop It Spray'), ('85637987-4961-177a-28f0-f3acf8facb6a', 'Googly Moogly Spray'), ('0abec7c8-4fc7-4fc2-af4c-22ad4802b937', 'KAY/O Spray'), ('e1f79c8d-4dd1-0541-e5f1-75a5c1e8e7cd', 'Drained Spray'), ('4c893010-4967-131a-a9a5-789483dbd7a0', 'Training Bot Spray'), ('7a50c4ed-46f5-7c80-ff43-3ea22e40aef2', 'Wild Life Spray'), ('7fb920f1-43af-6172-18a3-36a38eeba039', 'On Your Trail Spray'), ('a6779e98-4998-bf8a-8ca6-a783684a7834', 'Skye Spray'), ('e8754a6e-4ec5-3d1c-2ed9-e0a5ff9f1271', 'Cypher Spray'), ('26df3792-4540-ce9b-6048-11ab72bc4f94', 'The Seeker Spray'), ('db1dcdc0-4473-5598-05e4-d4859fa9d340', 'I See You Spray'), ('ae35781f-465a-fd46-745a-959a795aa333', 'Neo Frontier Spray '), ('38a03ad2-4758-e57b-4a01-d78dc728bdbd', 'Soulstrife Spray'), ('706200b9-40bd-8d93-0442-ff94f6a0fd6e', 'Lethal Crosshair Spray'), ('8d8179b0-449a-6856-857e-dc97de7b2ace', 'Calculated Spray'), ('2b2086de-4115-217f-eb97-28b1f9faf320', 'Primordium Spray'), ('1d63d0b1-4946-a76f-c280-aa8ba3f94772', 'Sova Spray'), ('f61f23ba-4f5a-0e31-e7eb-ccbc18700676', 'Take Flight Spray'), ('60384125-47dd-134f-cd80-fe861830f63c', 'On Target Spray'), ('880d5de5-4268-769d-5407-55921ad2db12', 'Prime Brick Spray'), ('f3c383f4-41c7-d0fb-190b-ed8b974e043e', 'Doomscrolling Spray'), ('30cd875b-48fe-86fb-5ceb-fe99323866dc', 'Jett Diff Spray'), ('17678625-4f24-6bde-58fb-7198778e4fdb', 'Killjoy Spray'), ('b11b4890-4e7f-cf5f-be7c-9c85ecd50868', 'Variable Removed Spray'), ('0a20236d-47d4-e9e6-adb1-a69ed3fdb1cd', 'Don\\\\u0027t Cross Me Spray'), ('96f0973a-43fd-db33-2c17-a7a4e1cf3461', 'Matsuba Spray'), ('1e7cdd34-476c-00ee-4169-87a643709e3d', 'Kohaku Spray'), ('bee9d65a-4a34-ac33-91dd-599cacdc4407', 'Aemondir Spray'), ('9c65bbe6-41da-c50c-be81-839214eede7c', 'Lights Out Spray'), ('efd0d001-4edb-34eb-c05c-139817d4840a', 'Lucky Tiger Spray'), ('cd9986f8-4473-914d-7918-caa21d23710f', 'Celestial Spray'), ('de2deb46-41fc-1ca1-f83d-2bbb1ad7ec3f', 'BLAH Spray'), ('b58a7069-4f24-6b17-74d1-9fa72362ab0e', 'Stay Hydrated Spray'), ('867051e2-4e73-8281-d98a-9799559459d4', 'Harbor Spray'), ('2b881576-448d-abec-e43c-a8af733b57c8', 'That\\\\u0027s a Six Spray'), ('562a64d8-483c-5853-4e7a-eea5ca95e3ce', 'Magepunk, Ep 3 Spray'), ('a9126263-439c-7be6-d668-52a6c0c0a36f', 'Claw and Order Spray'), ('a7b00f01-49ee-c0c2-a910-4d9ae605dbe1', 'Champions 2022 Curse Spray'), ('edb26f78-4524-8ee0-4a8f-1990e60caa3e', 'New Drip Spray'), ('f677065c-449d-dd91-78ef-6fa7d95ded8d', 'Flames in my Veins Spray'), ('2d7dea71-4f37-f20e-5198-a3b9fdb84b46', 'MEOW Spray'), ('3085ca2f-4e7a-25a5-909d-33940b0148e2', 'Runnin\\\\u0027 on Empty Spray'), ('40cc1645-43f4-4db3-ebb2-fdb46f8e9bf3', 'Just Business Spray'), ('b9acb0d5-458f-14db-6a7c-829379727fbd', 'Outlaw Spray'), ('166a3fb6-492c-9437-417d-b8852128f73c', 'Sic\\\\u0027 Em Spray'), ('8f7ef66d-49f2-867f-2ff8-1391a23c89d0', 'Give Back Spray'), ('67481014-423a-3175-4f5e-d0ba9422f887', 'Party\\\\u0027s Here Spray'), ('8b421bab-4ce1-952e-129f-27a299e8aafd', 'Cake or Spike? Spray'), ('30075be9-4d6b-3ec1-9f9d-b18b3898276c', 'Delightful Stretch Spray'), ('4d13296a-4f9d-05a1-8894-018af5205848', 'Light \\\\u0027Em Up Spray'), ('248ffb00-4598-04dc-3175-c4899f02c9c5', 'Not Today Spray'), ('fb5a3e47-42dd-c876-bd7d-0197d2b3d009', 'All Yuck, No Yum Spray'), ('8f10c3e8-452c-2480-b2dd-e9ab90db8f72', 'Crystal Ball Spray'), ('5a328cd4-4cb5-4e64-60c2-6487281390ff', 'Ego or Eco Spray'), ('174b7f71-40a2-f090-3806-008f25d38d30', 'Secret Sequence Spray'), ('6aff01b3-443c-d98c-820e-05852efc075f', 'Shreddy Teddy Spray'), ('0d5190d2-4e5e-38b6-d942-b3ab5ab4670f', 'Icebreaker Spray'), ('cd6e13e5-4d33-5afd-22d3-e9aca67efec6', 'Tacti-Force Spray'), ('2d9be381-4686-b392-310e-8bb2a6707f7e', 'Pity Party Spray'), ('770cbcca-40bd-0c68-0aae-b2a98747c8f0', 'Predicament Pals Spray'), ('f618342f-47ba-cb22-368a-afa38e956be9', 'Dan the Champ Spray'), ('deb1c72c-414f-0c1c-5b35-d08112daba31', 'Duo\\\\u0027s Day: Left Spray'), ('8b59a18b-440b-8277-f920-7d986ae0f072', 'Duo\\\\u0027s Day: Right Spray'), ('7c3771b2-4ea7-9188-bfd4-c08feeca3984', 'Tag! You\\\\u0027re Dead! Spray'), ('983d6cf0-43d5-900e-ca43-5298f44378af', 'Overdrive Spray'), ('13aa2012-4149-e57a-b21d-a8a795cdb131', 'Crimsonbeast Spray'), ('3baa428b-4e8e-df38-e50f-1e86f2f9584f', 'Valiant Hero Spray'), ('63ce8a2b-40c9-f8c7-e15d-77b6e310dfbe', 'Nice One Spray'), ('515a130a-4a2e-e0a4-9a73-c784f8f16e2a', 'Kuronami Spray'), ('eacdfa72-4b03-a297-3084-da918f4bad0e', 'Vyse Spray'), ('a7315bae-49cd-ee9d-8190-18ba6b21bb61', 'Arts and Crafts Spray'), ('292a7fd7-4657-fad4-e92d-09a11b6ab7bf', 'Jammed Spray'), ('cd3d4242-4282-9210-f34f-9998e8b1f9e0', 'Octo Attack 2 Spray'), ('145dc009-4f60-0872-0f81-69957d520317', 'Pick Your Poison Spray'), ('9eaaec2b-4a81-5691-9a14-2684ab242949', 'Deadly Venom Spray'), ('36ea48c6-4802-0d7c-ae97-d0a20db12a1d', 'Viper Spray'), ('47ec7318-4797-56d6-79ac-86ad59081881', 'Phoenix Spray'), ('13cc701a-4321-e105-3b66-01affe7da31a', 'Claim the Crown Spray'), ('1024275a-4673-8d84-e796-dbbabf611614', 'Spotlight Spray'), ('476820f7-4c57-41ca-ebb8-54a2828b4371', 'Too Easy Spray'), ('b1c901c2-48fe-9524-25ed-52a31e6e7b89', 'Pocket Sage Spray'), ('e428e9d5-4912-ffac-031b-f293375cd14d', 'Protocol 781-A Spray'), ('890c4f6d-4794-3d88-617b-1b906c7a8ea6', 'Clutch Spray'), ('3650047b-416a-589e-c28e-dea10e89ef59', 'Astral Plane Spray'), ('b58494ef-4b11-64e2-1d36-36853a74ad0c', 'Astra Spray'), ('15c876dd-4961-54ec-fbe0-d2b3a36f90e2', 'Galaxy Brain Spray'), ('0736596a-4ec0-7330-1f74-44843b6d0663', 'Sentinels of Light, Ep 7 Spray'), ('eece70be-4f84-facb-49b0-fe95290eff67', 'Salt Shaker Spray'), ('be343d37-465e-1878-e6d0-9aba467d7cca', 'Brimstone Spray'), ('b16024b9-4f5e-6dfa-c229-7d9c620c24d0', 'The Big One Spray'), ('50bc437d-46c4-e58f-e479-848becfb48fd', 'Getting Reps Spray'), ('edb80d08-4512-625a-ce84-ee9eade74790', 'Don\\\\u0027t Ask Spray'), ('76b238c0-4109-b292-6a9d-a09239f5679e', 'Iso Spray'), ('b709c77b-4914-b61d-d586-7485130d6ae6', 'In the Zone Spray'), ('47575563-4d43-96fb-1586-849d35c7ddd5', 'Loose Cannon Spray'), ('290565e7-4540-5764-31da-758846dc2a5a', 'VALORANT GO! Vol. 1 Cypher Spray'), ('31ba7f82-4fcb-4cbb-a719-06a3beef8603', 'VALORANT GO! Vol. 1 Jett Spray'), ('fef66645-4e35-ff38-1b7c-799dd5fc7468', 'VALORANT GO! Vol. 1 Killjoy Spray'), ('02f4c1db-46bb-a572-e830-0886edbb0981', 'VALORANT GO! Vol. 1 Reyna Spray'), ('40222bb5-4fce-9320-f4f1-95861df83c47', 'VALORANT GO! Vol. 1 Sage Spray'), ('a7e1a9b6-4ab5-e6f7-e5fe-bc86f87b44ee', 'VALORANT GO! Vol. 2 Phoenix Spray'), ('09786b0a-4c3e-5ba8-46ab-c49255620a5f', 'VALORANT GO! Vol. 2 Raze Spray'), ('7b0e0c8d-4f91-2a76-19b9-079def2fa843', 'VALORANT GO! Vol. 2 Sova Spray'), ('ea087a08-4b9f-bd0d-15a5-d3ba09c4c381', 'VALORANT GO! Vol. 2 Viper Spray'), ('40ff9251-4c11-b729-1f27-088ee032e7ce', 'VALORANT GO! Vol. 2 Yoru Spray'), ('9f78cf1d-4c55-71a0-f920-d6b5c8a21db0', 'Araxys Spray'), ('97672506-4484-d20f-6db7-acba862750c2', 'Araxys, Ep 9 Spray'), ('cd785f82-41a2-f7b4-0f17-e69b0fe5beb3', 'Champions 2022 Spray'), ('c495e583-42d5-e9fe-c460-9f946ff369f6', 'Origin Spray'), ('2e37f837-425d-45f2-22a2-71a9af5c118f', 'Glitchpop Spray'), ('8dbcccdf-44fc-58ec-5c2a-b68530c4a039', 'Glitchpop, EP 2 Spray'), ('369c7cda-4133-b3ab-2c8b-3e8f371cb181', 'Singularity Spray'), ('b67ad8d3-40b4-3a8a-c9ce-1d85a087d324', 'Singularity, Ep 9 Spray'), ('506bdf48-4d1b-87a7-6f02-eeb9ee9dadff', 'VCT LOCK//IN Vamos! Spray'), ('70fa1a13-4964-6ef8-62ce-c4827a3d8f70', 'Forsaken Spray'), ('021c99dd-4a43-01fb-70df-fc83cd0f0560', 'Ruin Spray'), ('65239071-41a8-34d2-cf45-bc8da80b42f0', 'Prime//2.0 Spray'), ('6ab339ad-4bcd-6bb2-e467-37adec3a048a', 'XER\\\\u00D8FANG Spray '), ('ce90906d-40da-367b-4a7a-e7a692516ee1', 'Ruination Spray'), ('405beaef-4c2d-df2d-fe9d-689d59d08e65', 'Magepunk Spray'), ('9a657204-4376-ed61-ad3e-0a8b7bbecd18', 'Spline Spray'), ('444464f1-445f-8f75-3c8d-a7bd8f24e654', 'Ion Spray'), ('e269f912-4d39-e844-7b85-e495cca6b04a', 'Ion, Ep5 Spray'), ('1091d2cc-430b-56ca-a82b-279b70026193', 'Oni Spray'), ('bc34230c-48be-a8da-16c0-63abe07d3887', 'Oni, Ep 6 Spray'), ('8b6bde33-47ed-1b5d-67ff-f68d7ba8daf9', 'Luna Spray'), ('735e6c3c-4899-532d-60cf-1ba0ce1a450d', 'Gravitational Uranium Neuroblaster Spray'), ('829a47d5-4580-8428-2437-8daffdbc52ac', 'Sentinels of Light Spray'), ('1658e811-4084-8775-28df-5a9feabc52d8', 'Reaver Spray'), ('71d260ca-4bad-81f2-0298-44860341a7a6', 'Ego Spray'), ('636722a7-4149-8319-c15e-14b17c2c47d1', 'BlastX Spray'), ('2775d1de-498f-70b2-ee89-13953d80e620', 'Clove Spray'), ('712f583b-4882-46e6-57d6-19bd85363c54', 'Wee Punk Spray'), ('7221ab04-4a64-9a0f-ba1e-e7a423f5ed4b', 'Gloomheart Spray'), ('b909e6f9-426c-e77d-9016-60ae23a0d11f', 'Reaver, EP 5 Spray'), ('d54e0883-4967-5808-e25c-37b3e6313e5c', 'Sovereign Spray'), ('837b0b29-4bc9-dd7f-eccb-7d88884d592d', 'Sovereign, Ep 8 Spray'), ('c9eb6299-4bdf-11ab-0751-3c93717754d0', 'Mystbloom Spray'), ('180a93cb-4ba4-db87-b357-b9b104373a74', 'Clip It Spray'), ('bcf042e4-463c-7fc1-a2c7-0ca17791da9c', 'Neon Spray'), ('a465eabf-4bfd-2fef-d6b2-c2b3ce10f2db', 'Hot Mic Spray'), ('2bd7df88-4915-948f-af55-b2a2dc8b2e0c', 'Nice to Zap You Spray'), ('e57419f3-4d86-77d7-0e28-14838940dd4e', 'Who\\\\u0027s Next Spray'), ('bc8917ee-4e11-0286-ff49-77b1e5b12fcb', 'Sharp Spray'), ('fe84089e-45cf-0c99-0cdf-1aa5b3296117', 'Yoru Spray'), ('7da0141a-4f39-33c9-8e0b-a8b44bc59a36', '200 IQ Spray'), ('94ccd7e7-4ddc-553e-d9e2-5a8afc1d3a5b', 'Sip n\\\\u0027 Spray'), ('bf2188f1-4b0a-a55f-c631-67a54ac1ccc5', 'Tactibear Spray'), ('57c263b9-49a1-b75d-b717-828c3978e305', 'Super Fan Spray'), ('2cf3c29c-49ec-7297-93f8-35988fce5ca6', 'Sage Spray'), ('d16b0b8c-4106-493b-f231-ac9b4d56372f', 'All Good Spray'), ('6410980b-493b-63bf-0860-31940c553ead', 'Pulse Check Spray'), ('5cbab592-4571-be90-e1fa-268898ebd23c', 'Tigris Spray'), ('d7efbdd5-4a77-f858-a133-cfb8956ca1fe', 'No Spray Equipped'), ('d81a1842-40f3-8321-c57a-efa2657084d1', 'Wonderstallion Spray'), ('5d88fd45-434d-b0d6-2331-e8b3d47b8395', 'V for VALORANT Spray'), ('48601754-442d-98cb-2109-3fb2075500ec', 'Can\\\\u0027t Teach That Spray'), ('632061ef-441f-a54c-6b45-ab9f7945f0b5', 'VCT x 100T Spray'), ('a3b6d008-4d6a-ab8d-7bd7-9582d52e8f77', 'VCT x BBL Spray'), ('194abf52-4f24-1244-1270-e687a34cb54e', 'VCT x BLD Spray'), ('5a14332a-4801-2205-e050-c8b162ac243e', 'VCT x C9 Spray'), ('63e191ef-4968-1b67-ca69-1e80a5ca1e9e', 'VCT x DFM Spray'), ('923cf367-4da8-76ea-b674-d58c99ef40cb', 'VCT x DRX Spray'), ('b87ae9a3-42ab-9dbf-9e8e-b9aa5ddf13e2', 'VCT x EG Spray'), ('27fc4c2f-4af1-5b53-571f-0d9ff5ad6ff0', 'VCT x FNC Spray'), ('8d4cef22-4d88-80f9-7c97-2dad22d646e0', 'VCT x FUR Spray'), ('7802b33c-4202-dd95-abbc-05b94571c418', 'VCT x FUT Spray'), ('7ec14c69-43c8-e4b3-8690-2db516be6ebe', 'VCT x G2 Spray'), ('adc21c11-4c90-5e4f-e996-35bac2796830', 'VCT x GEN Spray'), ('dd6530b4-4869-9a1d-b788-0bacaa9e8027', 'VCT x GE Spray'), ('e7eedc68-49c6-3821-541a-7dbf3710eeb8', 'VCT x GX Spray'), ('1f29742c-429b-a99e-a0ab-cc950f46bfc0', 'VCT x KC Spray'), ('5613d238-4ef2-4e9f-fb87-6dadb4b89a60', 'VCT x KOI Spray'), ('e82fae5e-4be4-bbb1-37c4-f88b2470452d', 'VCT x KR\\\\u00DC Spray'), ('82539f42-4355-c7a1-205c-8990bd93d3ac', 'VCT x LEV Spray'), ('51115382-48c7-8f54-599d-ca913ec7fb9f', 'VCT x LOUD Spray'), ('b1d38f57-4ebd-654e-d560-aab5106e1165', 'VCT x M8 Spray'), ('4090836c-4016-f728-2e8f-2c8d14548dcf', 'VCT x MIBR Spray'), ('4ac07f27-4696-b3ba-7b71-6da5efee5976', 'VCT x NAVI Spray'), ('0f74cd6f-4c7a-0d57-a33d-38a5c06f2d36', 'VCT x NRG Spray'), ('4c4a090a-43ff-2f78-4c11-6ea53bff587d', 'VCT x PRX Spray'), ('e90b8d2e-4c39-c265-a46a-d6b15c44018a', 'VCT x RRQ Spray'), ('164dd101-4698-5204-3c4d-b2ab8e221ee1', 'VCT x SEN Spray'), ('3018fc97-4e59-93c5-e217-25a2ee0951e8', 'VCT x T1 Spray'), ('e58a80b2-4419-f4d2-e8d1-3889f63b1537', 'VCT x TH Spray'), ('96d25963-4242-72de-3b82-409bae2306d3', 'VCT x TL Spray'), ('b31a9e48-4260-72cd-97cd-b58d97fcc220', 'VCT x TLN Spray'), ('265916e2-4d17-dd77-732c-c89a4712eb10', 'VCT x TS Spray'), ('bb66acac-472d-329b-c9e6-94b3b62f2327', 'VCT x VIT Spray'), ('640d996e-427c-7754-80f4-fd94bba4b5fe', 'VCT x ZETA Spray'), ('0c342c8c-492e-e20e-cf06-c694ec4a386f', 'Reyna Spray'), ('87b81520-4eaa-0536-4c45-babd5a35a15b', 'Leer Spray'), ('bb6fd4d0-4ba1-68a1-a1e2-d6b1a33d6b9d', 'Marked for Death Spray'), ('27c5fd11-4f69-031a-6ee0-6da838ed7998', 'Vandal Life Spray'), ('be8eeab6-43eb-d0b7-7b38-f6bb25ef7547', 'Accidental Renaissance Spray'), ('fd1a5a33-4170-95a4-f02a-118fb3f0b5c3', 'Omen Spray'), ('da814168-4ab3-98fb-847a-29967fa91c42', 'It Hunts Spray'), ('e3078809-4d75-8439-5bf6-2bada7e1e5a4', 'Dark Focus Spray'), ('5dbe809e-4dcb-2cc1-6afe-57b3a7f4a303', 'Jett Spray'), ('cf824d0a-4bf5-0864-6ca2-efa4d00a819b', 'Watch This Spray'), ('5dc78e1a-4acd-ac48-69d2-a99591e9563f', 'You Better Run Spray')]\n"
     ]
    }
   ],
   "source": [
    "# print the results\n",
    "print(results)"
   ]
  },
  {
   "cell_type": "code",
   "execution_count": 10,
   "metadata": {},
   "outputs": [
    {
     "name": "stdout",
     "output_type": "stream",
     "text": [
      "656\n"
     ]
    }
   ],
   "source": [
    "print(len(results))"
   ]
  },
  {
   "cell_type": "code",
   "execution_count": 11,
   "metadata": {},
   "outputs": [],
   "source": [
    "# test the list for 10 items\n",
    "test_result = results[5:10]"
   ]
  },
  {
   "cell_type": "code",
   "execution_count": 12,
   "metadata": {},
   "outputs": [],
   "source": [
    "import os\n",
    "\n",
    "# Path to the \"all sprays\" folder\n",
    "all_sprays_path = r\"D:\\all_sprays\"\n",
    "\n",
    "# Path to the text file to save the list of images\n",
    "output_file = r\".\\old_images_list.txt\"\n",
    "\n",
    "# Get the list of all files in the \"all sprays\" folder and its subfolders\n",
    "image_files = []\n",
    "for root, dirs, files in os.walk(all_sprays_path):\n",
    "    for file in files:\n",
    "        if file.endswith(('.png', '.gif', '.webp')):\n",
    "            image_files.append(file)\n",
    "\n",
    "# Save the list of images to the text file\n",
    "with open(output_file, 'w') as f:\n",
    "    for image_file in image_files:\n",
    "        f.write(image_file + '\\n')"
   ]
  },
  {
   "cell_type": "code",
   "execution_count": 13,
   "metadata": {},
   "outputs": [
    {
     "name": "stdout",
     "output_type": "stream",
     "text": [
      "URL not found: https://media.valorant-api.com/sprays/06351c4a-4a93-793e-f5c9-2fa675359a93/fulltransparenticon.png\n",
      "An error occurred while downloading the image.\n",
      "URL not found: https://media.valorant-api.com/sprays/e279312d-4321-5194-13f5-6897b0a005cf/fulltransparenticon.png\n",
      "An error occurred while downloading the image.\n",
      "URL not found: https://media.valorant-api.com/sprays/8b7154e2-4453-2515-0867-62a1075b03ad/fulltransparenticon.png\n",
      "An error occurred while downloading the image.\n",
      "URL not found: https://media.valorant-api.com/sprays/a418d89e-49af-141e-4edd-de9ec79c34da/fulltransparenticon.png\n",
      "An error occurred while downloading the image.\n",
      "URL not found: https://media.valorant-api.com/sprays/a5ecf58a-44ce-75f6-abf7-bfb616c12f59/fulltransparenticon.png\n",
      "An error occurred while downloading the image.\n",
      "URL not found: https://media.valorant-api.com/sprays/500da6bd-4cf1-3362-be2b-1487ec286b91/fulltransparenticon.png\n",
      "An error occurred while downloading the image.\n",
      "URL not found: https://media.valorant-api.com/sprays/8f9caa22-4dd6-5649-1007-0bbaf7001c04/fulltransparenticon.png\n",
      "An error occurred while downloading the image.\n",
      "URL not found: https://media.valorant-api.com/sprays/bbdcf328-4f71-3c0c-7830-568913236d35/fulltransparenticon.png\n",
      "An error occurred while downloading the image.\n",
      "URL not found: https://media.valorant-api.com/sprays/2e7b49d2-4022-a474-1feb-91872e6e2523/fulltransparenticon.png\n",
      "An error occurred while downloading the image.\n",
      "URL not found: https://media.valorant-api.com/sprays/01d4de2a-4eda-dbed-2051-4cabb86d7c26/fulltransparenticon.png\n",
      "An error occurred while downloading the image.\n",
      "URL not found: https://media.valorant-api.com/sprays/f52e0361-444e-b8b6-f549-8787f396c662/fulltransparenticon.png\n",
      "An error occurred while downloading the image.\n",
      "URL not found: https://media.valorant-api.com/sprays/16f7cea0-4bfe-dc59-42a3-9f90387f6071/fulltransparenticon.png\n",
      "An error occurred while downloading the image.\n",
      "URL not found: https://media.valorant-api.com/sprays/dc75fa75-438d-c536-8080-f385cf5b0609/fulltransparenticon.png\n",
      "An error occurred while downloading the image.\n",
      "URL not found: https://media.valorant-api.com/sprays/20804618-4c6c-3592-0356-ce883c0b3ba9/fulltransparenticon.png\n",
      "An error occurred while downloading the image.\n",
      "URL not found: https://media.valorant-api.com/sprays/5297a45a-4ca0-dff0-1229-4bb9e851d924/fulltransparenticon.png\n",
      "An error occurred while downloading the image.\n",
      "URL not found: https://media.valorant-api.com/sprays/2ef94d62-44de-d9eb-ea36-4aa28418cbed/fulltransparenticon.png\n",
      "An error occurred while downloading the image.\n",
      "URL not found: https://media.valorant-api.com/sprays/1a2baf70-43cd-84f5-2dea-f49b9173c700/fulltransparenticon.png\n",
      "An error occurred while downloading the image.\n",
      "URL not found: https://media.valorant-api.com/sprays/ecba2299-4e4a-0ca7-a194-95a4c92f3f4a/fulltransparenticon.png\n",
      "An error occurred while downloading the image.\n",
      "URL not found: https://media.valorant-api.com/sprays/fd92bdcd-4ae8-861e-843a-05a8113a4d11/fulltransparenticon.png\n",
      "An error occurred while downloading the image.\n",
      "URL not found: https://media.valorant-api.com/sprays/043970f9-47ae-c73a-3de1-f291769fda0f/fulltransparenticon.png\n",
      "An error occurred while downloading the image.\n",
      "URL not found: https://media.valorant-api.com/sprays/b3618996-4966-691c-e8a5-758f500d0992/fulltransparenticon.png\n",
      "An error occurred while downloading the image.\n",
      "URL not found: https://media.valorant-api.com/sprays/9d205163-475a-eb0e-e71d-878635cabce6/fulltransparenticon.png\n",
      "An error occurred while downloading the image.\n",
      "URL not found: https://media.valorant-api.com/sprays/a9b0e97f-4acf-c6fd-2e5d-41a74a79266b/fulltransparenticon.png\n",
      "An error occurred while downloading the image.\n",
      "URL not found: https://media.valorant-api.com/sprays/a8765b06-4131-5be0-575a-e288cfa904a8/fulltransparenticon.png\n",
      "An error occurred while downloading the image.\n",
      "URL not found: https://media.valorant-api.com/sprays/8f67bf99-4572-de1e-a421-1d80e3713c36/fulltransparenticon.png\n",
      "An error occurred while downloading the image.\n",
      "URL not found: https://media.valorant-api.com/sprays/0dc378e3-4936-7c9f-a1ba-fd90999b3a10/fulltransparenticon.png\n",
      "An error occurred while downloading the image.\n",
      "URL not found: https://media.valorant-api.com/sprays/8b820b5b-4988-4385-610e-d7923724de68/fulltransparenticon.png\n",
      "An error occurred while downloading the image.\n",
      "URL not found: https://media.valorant-api.com/sprays/68d4f0b2-48fe-2514-2924-36b4a2cf5e62/fulltransparenticon.png\n",
      "An error occurred while downloading the image.\n",
      "URL not found: https://media.valorant-api.com/sprays/b83adc4b-4566-6601-c460-039e9e78ac3f/fulltransparenticon.png\n",
      "An error occurred while downloading the image.\n",
      "URL not found: https://media.valorant-api.com/sprays/81a09bea-4868-454b-5732-3f83b397447f/fulltransparenticon.png\n",
      "An error occurred while downloading the image.\n",
      "URL not found: https://media.valorant-api.com/sprays/bae38782-4d0a-1e95-52a4-9ca8059ba6d2/fulltransparenticon.png\n",
      "An error occurred while downloading the image.\n",
      "URL not found: https://media.valorant-api.com/sprays/3ce8ebdc-435a-b6fb-c2f3-8e9877551a31/fulltransparenticon.png\n",
      "An error occurred while downloading the image.\n",
      "URL not found: https://media.valorant-api.com/sprays/f917c3a1-4349-9335-4864-46806eb8c764/fulltransparenticon.png\n",
      "An error occurred while downloading the image.\n",
      "URL not found: https://media.valorant-api.com/sprays/89cd9d61-41c8-156a-6b07-b5af51aaf07f/fulltransparenticon.png\n",
      "An error occurred while downloading the image.\n",
      "URL not found: https://media.valorant-api.com/sprays/41566c1b-4d7b-2cba-dd5a-01abf2d67242/fulltransparenticon.png\n",
      "An error occurred while downloading the image.\n",
      "URL not found: https://media.valorant-api.com/sprays/919b23a7-42fa-ef0c-adbe-438351a90687/fulltransparenticon.png\n",
      "An error occurred while downloading the image.\n",
      "URL not found: https://media.valorant-api.com/sprays/a1895f5a-4718-1654-3214-52a59fcad821/fulltransparenticon.png\n",
      "An error occurred while downloading the image.\n",
      "URL not found: https://media.valorant-api.com/sprays/81c97a7d-4d76-38df-2e66-42a916fb811e/fulltransparenticon.png\n",
      "An error occurred while downloading the image.\n",
      "URL not found: https://media.valorant-api.com/sprays/1284b594-4bb8-7bce-8165-239757222cf8/fulltransparenticon.png\n",
      "An error occurred while downloading the image.\n",
      "URL not found: https://media.valorant-api.com/sprays/56edb899-4ae8-9f20-9412-21ae19ef368d/fulltransparenticon.png\n",
      "An error occurred while downloading the image.\n",
      "URL not found: https://media.valorant-api.com/sprays/e1c3bb67-41a9-a17e-f358-81a444bd0b2a/fulltransparenticon.png\n",
      "An error occurred while downloading the image.\n",
      "URL not found: https://media.valorant-api.com/sprays/4c8c6524-4a90-213d-b020-659e46560657/fulltransparenticon.png\n",
      "An error occurred while downloading the image.\n",
      "URL not found: https://media.valorant-api.com/sprays/cb73ea04-4647-1539-03fc-b9bb01c61de9/fulltransparenticon.png\n",
      "An error occurred while downloading the image.\n",
      "URL not found: https://media.valorant-api.com/sprays/d7090a91-4aac-a474-cb34-3ba22a73e871/fulltransparenticon.png\n",
      "An error occurred while downloading the image.\n",
      "URL not found: https://media.valorant-api.com/sprays/f0110ce4-4455-0e00-0b9c-7c81f4fbe159/fulltransparenticon.png\n",
      "An error occurred while downloading the image.\n",
      "URL not found: https://media.valorant-api.com/sprays/fcc32073-4d5f-5dec-dfbf-5d855dd5df44/fulltransparenticon.png\n",
      "An error occurred while downloading the image.\n",
      "URL not found: https://media.valorant-api.com/sprays/8ea5d8f8-480a-472f-02f5-3a91ca6e1192/fulltransparenticon.png\n",
      "An error occurred while downloading the image.\n",
      "URL not found: https://media.valorant-api.com/sprays/aa0b10d7-4ca5-54ab-49e5-2ca893c153d1/fulltransparenticon.png\n",
      "An error occurred while downloading the image.\n",
      "URL not found: https://media.valorant-api.com/sprays/ef3977c1-4e22-e53e-d571-4ea8ed6e5fc9/fulltransparenticon.png\n",
      "An error occurred while downloading the image.\n",
      "URL not found: https://media.valorant-api.com/sprays/c5e3c41a-4663-c59f-9d84-2d932312ed96/fulltransparenticon.png\n",
      "An error occurred while downloading the image.\n",
      "URL not found: https://media.valorant-api.com/sprays/ca080c7c-4071-4211-d46d-5c8396aa04f4/fulltransparenticon.png\n",
      "An error occurred while downloading the image.\n",
      "URL not found: https://media.valorant-api.com/sprays/8f82bdb1-4cf4-e69e-ae58-bb96a1e67a8b/fulltransparenticon.png\n",
      "An error occurred while downloading the image.\n",
      "URL not found: https://media.valorant-api.com/sprays/ece10c9a-4318-ad80-e1f0-6b9f974a4e66/fulltransparenticon.png\n",
      "An error occurred while downloading the image.\n",
      "URL not found: https://media.valorant-api.com/sprays/66b4e570-4794-a2e2-3df9-d5a1ac3fc6d9/fulltransparenticon.png\n",
      "An error occurred while downloading the image.\n",
      "URL not found: https://media.valorant-api.com/sprays/0d5ac29c-482f-1a31-eba2-bba3acb2c2c4/fulltransparenticon.png\n",
      "An error occurred while downloading the image.\n",
      "URL not found: https://media.valorant-api.com/sprays/229ea6cf-4493-2f5a-f45f-d6937f9afecd/fulltransparenticon.png\n",
      "An error occurred while downloading the image.\n",
      "URL not found: https://media.valorant-api.com/sprays/e2c9ba93-48b3-5de8-4da9-4a92038d252a/fulltransparenticon.png\n",
      "An error occurred while downloading the image.\n",
      "URL not found: https://media.valorant-api.com/sprays/45caaf15-481a-b575-6941-b0b7ce833add/fulltransparenticon.png\n",
      "An error occurred while downloading the image.\n",
      "URL not found: https://media.valorant-api.com/sprays/7d1e17b1-4d84-4025-d675-80916cdf21ce/fulltransparenticon.png\n",
      "An error occurred while downloading the image.\n",
      "URL not found: https://media.valorant-api.com/sprays/5e5fd29a-4e83-40fa-0012-e08470dacdd7/fulltransparenticon.png\n",
      "An error occurred while downloading the image.\n",
      "URL not found: https://media.valorant-api.com/sprays/e3d197d4-458b-7e60-dbbf-378788cf4863/fulltransparenticon.png\n",
      "An error occurred while downloading the image.\n",
      "URL not found: https://media.valorant-api.com/sprays/b57067d5-4d13-cd4d-7493-d386a2fc1cbb/fulltransparenticon.png\n",
      "An error occurred while downloading the image.\n",
      "URL not found: https://media.valorant-api.com/sprays/87a73941-4739-acbf-5c94-63ab07cd68d6/fulltransparenticon.png\n",
      "An error occurred while downloading the image.\n",
      "URL not found: https://media.valorant-api.com/sprays/db44205d-4b22-cf8a-cdee-a49fcf754ce3/fulltransparenticon.png\n",
      "An error occurred while downloading the image.\n",
      "URL not found: https://media.valorant-api.com/sprays/777dd75b-4de9-1c2f-a645-e2a6df175838/fulltransparenticon.png\n",
      "An error occurred while downloading the image.\n",
      "URL not found: https://media.valorant-api.com/sprays/78cc63ef-4789-3a69-49f6-f7b43b07b29d/fulltransparenticon.png\n",
      "An error occurred while downloading the image.\n",
      "URL not found: https://media.valorant-api.com/sprays/6300dcf4-40d5-6d89-e46c-878052e3deea/fulltransparenticon.png\n",
      "An error occurred while downloading the image.\n",
      "URL not found: https://media.valorant-api.com/sprays/0abec7c8-4fc7-4fc2-af4c-22ad4802b937/fulltransparenticon.png\n",
      "An error occurred while downloading the image.\n",
      "URL not found: https://media.valorant-api.com/sprays/0a20236d-47d4-e9e6-adb1-a69ed3fdb1cd/fulltransparenticon.png\n",
      "An error occurred while downloading the image.\n",
      "URL not found: https://media.valorant-api.com/sprays/2b881576-448d-abec-e43c-a8af733b57c8/fulltransparenticon.png\n",
      "An error occurred while downloading the image.\n",
      "URL not found: https://media.valorant-api.com/sprays/3085ca2f-4e7a-25a5-909d-33940b0148e2/fulltransparenticon.png\n",
      "An error occurred while downloading the image.\n",
      "URL not found: https://media.valorant-api.com/sprays/166a3fb6-492c-9437-417d-b8852128f73c/fulltransparenticon.png\n",
      "An error occurred while downloading the image.\n",
      "URL not found: https://media.valorant-api.com/sprays/67481014-423a-3175-4f5e-d0ba9422f887/fulltransparenticon.png\n",
      "An error occurred while downloading the image.\n",
      "URL not found: https://media.valorant-api.com/sprays/8b421bab-4ce1-952e-129f-27a299e8aafd/fulltransparenticon.png\n",
      "An error occurred while downloading the image.\n",
      "URL not found: https://media.valorant-api.com/sprays/4d13296a-4f9d-05a1-8894-018af5205848/fulltransparenticon.png\n",
      "An error occurred while downloading the image.\n",
      "URL not found: https://media.valorant-api.com/sprays/5a328cd4-4cb5-4e64-60c2-6487281390ff/fulltransparenticon.png\n",
      "An error occurred while downloading the image.\n",
      "URL not found: https://media.valorant-api.com/sprays/deb1c72c-414f-0c1c-5b35-d08112daba31/fulltransparenticon.png\n",
      "An error occurred while downloading the image.\n",
      "URL not found: https://media.valorant-api.com/sprays/8b59a18b-440b-8277-f920-7d986ae0f072/fulltransparenticon.png\n",
      "An error occurred while downloading the image.\n",
      "URL not found: https://media.valorant-api.com/sprays/7c3771b2-4ea7-9188-bfd4-c08feeca3984/fulltransparenticon.png\n",
      "An error occurred while downloading the image.\n",
      "URL not found: https://media.valorant-api.com/sprays/cd3d4242-4282-9210-f34f-9998e8b1f9e0/fulltransparenticon.png\n",
      "An error occurred while downloading the image.\n",
      "URL not found: https://media.valorant-api.com/sprays/3650047b-416a-589e-c28e-dea10e89ef59/fulltransparenticon.png\n",
      "An error occurred while downloading the image.\n",
      "URL not found: https://media.valorant-api.com/sprays/edb80d08-4512-625a-ce84-ee9eade74790/fulltransparenticon.png\n",
      "An error occurred while downloading the image.\n",
      "URL not found: https://media.valorant-api.com/sprays/506bdf48-4d1b-87a7-6f02-eeb9ee9dadff/fulltransparenticon.png\n",
      "An error occurred while downloading the image.\n",
      "URL not found: https://media.valorant-api.com/sprays/65239071-41a8-34d2-cf45-bc8da80b42f0/fulltransparenticon.png\n",
      "An error occurred while downloading the image.\n",
      "URL not found: https://media.valorant-api.com/sprays/6ab339ad-4bcd-6bb2-e467-37adec3a048a/fulltransparenticon.png\n",
      "An error occurred while downloading the image.\n",
      "URL not found: https://media.valorant-api.com/sprays/9a657204-4376-ed61-ad3e-0a8b7bbecd18/fulltransparenticon.png\n",
      "An error occurred while downloading the image.\n",
      "URL not found: https://media.valorant-api.com/sprays/e57419f3-4d86-77d7-0e28-14838940dd4e/fulltransparenticon.png\n",
      "An error occurred while downloading the image.\n",
      "URL not found: https://media.valorant-api.com/sprays/94ccd7e7-4ddc-553e-d9e2-5a8afc1d3a5b/fulltransparenticon.png\n",
      "An error occurred while downloading the image.\n",
      "URL not found: https://media.valorant-api.com/sprays/d7efbdd5-4a77-f858-a133-cfb8956ca1fe/fulltransparenticon.png\n",
      "An error occurred while downloading the image.\n",
      "URL not found: https://media.valorant-api.com/sprays/48601754-442d-98cb-2109-3fb2075500ec/fulltransparenticon.png\n",
      "An error occurred while downloading the image.\n",
      "URL not found: https://media.valorant-api.com/sprays/e82fae5e-4be4-bbb1-37c4-f88b2470452d/fulltransparenticon.png\n",
      "An error occurred while downloading the image.\n"
     ]
    }
   ],
   "source": [
    "import os\n",
    "\n",
    "# Path to the text file containing the list of existing images\n",
    "existing_images_file = r\"D:\\Valorant-Stickers\\old_images_list.txt\"\n",
    "\n",
    "# Load the list of existing images\n",
    "with open(existing_images_file, 'r') as f:\n",
    "    existing_images = set(line.strip() for line in f)\n",
    "\n",
    "# Create a new folder to save the images\n",
    "folder_name = \"sticker_images_2025_jan\"\n",
    "os.makedirs(folder_name, exist_ok=True)\n",
    "\n",
    "for uuid, name in results:\n",
    "    name = name.replace(\" \", \"_\")\n",
    "    try:\n",
    "        try:\n",
    "            url = f\"https://media.valorant-api.com/sprays/{uuid}/animation.gif\"\n",
    "            file_path = os.path.join(folder_name, name + \".gif\")\n",
    "            if os.path.relpath(file_path, folder_name) not in existing_images:\n",
    "                urllib.request.urlretrieve(url, file_path)\n",
    "            # urllib.request.urlretrieve(url, file_path)\n",
    "        except:\n",
    "            url = f\"https://media.valorant-api.com/sprays/{uuid}/fulltransparenticon.png\"\n",
    "            file_path = os.path.join(folder_name, name + \".png\")\n",
    "            if os.path.relpath(file_path, folder_name) not in existing_images:\n",
    "                urllib.request.urlretrieve(url, file_path)\n",
    "            # urllib.request.urlretrieve(url, file_path)\n",
    "    except:\n",
    "        print(f\"URL not found: {url}\")\n",
    "        print(\"An error occurred while downloading the image.\")"
   ]
  }
 ],
 "metadata": {
  "kernelspec": {
   "display_name": ".env",
   "language": "python",
   "name": "python3"
  },
  "language_info": {
   "codemirror_mode": {
    "name": "ipython",
    "version": 3
   },
   "file_extension": ".py",
   "mimetype": "text/x-python",
   "name": "python",
   "nbconvert_exporter": "python",
   "pygments_lexer": "ipython3",
   "version": "3.12.4"
  },
  "orig_nbformat": 4
 },
 "nbformat": 4,
 "nbformat_minor": 2
}
