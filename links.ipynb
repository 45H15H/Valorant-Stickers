{
 "cells": [
  {
   "cell_type": "code",
   "execution_count": 94,
   "metadata": {},
   "outputs": [],
   "source": [
    "import requests\n",
    "\n",
    "import re"
   ]
  },
  {
   "cell_type": "code",
   "execution_count": 90,
   "metadata": {},
   "outputs": [],
   "source": [
    "sprays = requests.get(\"https://valorant-api.com/v1/sprays\")"
   ]
  },
  {
   "cell_type": "code",
   "execution_count": 91,
   "metadata": {},
   "outputs": [],
   "source": [
    "spraysText = sprays.text"
   ]
  },
  {
   "cell_type": "code",
   "execution_count": 117,
   "metadata": {},
   "outputs": [
    {
     "data": {
      "text/plain": [
       "'{\"status\":200,\"data\":[{\"uuid\":\"3d2bcfc5-442b-812e-3c08-9180d6b36077\",\"displayName\":\"Caught on Camera Spray\",\"category\":null,\"themeUuid\":null,\"displayIcon\":\"https://media.valorant-api.com/sprays/3d2bcfc5-442b-812e-3c08-9180d6b36077/displayicon.png\",\"fullIcon\":\"https://media.valorant-api.com/sprays/3d2bcfc5-442b-812e-3c08-9180d6b36077/fullicon.png\",\"fullTransparentIcon\":\"https://media.valorant-api.com/sprays/3d2bcfc5-442b-812e-3c08-9180d6b36077/fulltransparenticon.png\",\"animationPng\":null,\"animationGif\":null,\"assetPath\":\"ShooterGame/Content/Personalization/Sprays/Act1_2_BP/CaughtOnCamera/CaughtOnCamera_PrimaryAsset\",\"levels\":[{\"uuid\":\"20d547a4-4ec8-c9ef-dd9d-1c8b74d0e6f7\",\"sprayLevel\":1,\"displayName\":\"Caught on Camera Spray\",\"displayIcon\":\"https://media.valorant-api.com/spraylevels/20d547a4-4ec8-c9ef-dd9d-1c8b74d0e6f7/displayicon.png\",\"assetPath\":\"ShooterGame/Content/Personalization/Sprays/Act1_2_BP/CaughtOnCamera/CaughtOnCamera_Level1_PrimaryAsset\"}]},{\"uuid\":\"81c68821-46d3-9176-294c-abba0bc64e0b\",\"displayName\":\"Chicken Out Spray\",\"category\":null,\"themeUuid\":null,\"displayIcon\":\"https://media.valorant-api.com/sprays/81c68821-46d3-9176-294c-abba0bc64e0b/displayicon.png\",\"fullIcon\":\"https://media.valorant-api.com/sprays/81c68821-46d3-9176-294c-abba0bc64e0b/fullicon.png\",\"fullTransparentIcon\":\"https://media.valorant-api.com/sprays/81c68821-46d3-9176-294c-abba0bc64e0b/fulltransparenticon.png\",\"animationPng\":null,\"animationGif\":null,\"assetPath\":\"ShooterGame/Content/Personalization/Sprays/Act1_2_BP/ChickenReborn/ChickenReborn_PrimaryAsset\",\"levels\":[{\"uuid\":\"47484536-4406-cc35-4792-1485accb9862\",\"sprayLevel\":1,\"displayName\":\"Chicken Out Spray\",\"displayIcon\":\"https://media.valorant-api.com/spraylevels/47484536-4406-cc35-4792-1485accb9862/displayicon.png\",\"assetPath\":\"ShooterGame/Content/Personalization/Sprays/Act1_2_BP/ChickenReborn/ChickenReborn_Level1_PrimaryAsset\"}]},{\"uuid\":\"06351c4a-4a93-793e-f5c9-2fa675359a93\",\"displayName\":\"Defy the Limits Spray\",\"category\":null,\"them'"
      ]
     },
     "execution_count": 117,
     "metadata": {},
     "output_type": "execute_result"
    }
   ],
   "source": [
    "spraysText[:2000]"
   ]
  },
  {
   "cell_type": "code",
   "execution_count": 96,
   "metadata": {},
   "outputs": [],
   "source": [
    "displayNameRegex = re.compile('\\\"displayName\\\"\\:\\\"([^\"]+)\\\"\\,\\\"category')\n",
    "\n",
    "displayNames = re.findall(displayNameRegex, spraysText)"
   ]
  },
  {
   "cell_type": "code",
   "execution_count": 120,
   "metadata": {},
   "outputs": [
    {
     "data": {
      "text/plain": [
       "385"
      ]
     },
     "execution_count": 120,
     "metadata": {},
     "output_type": "execute_result"
    }
   ],
   "source": [
    "len(displayNames)"
   ]
  },
  {
   "cell_type": "code",
   "execution_count": 118,
   "metadata": {},
   "outputs": [],
   "source": [
    "fullTransparentIconRegex = re.compile('\\\"fullTransparentIcon\\\"\\:\\\"(https://media.valorant-api.com/sprays/[a-z0-9-]+/fulltransparenticon.png)\\\"')\n",
    "\n",
    "fullTransparentIcons = re.findall(fullTransparentIconRegex, spraysText)"
   ]
  },
  {
   "cell_type": "code",
   "execution_count": 119,
   "metadata": {},
   "outputs": [
    {
     "data": {
      "text/plain": [
       "378"
      ]
     },
     "execution_count": 119,
     "metadata": {},
     "output_type": "execute_result"
    }
   ],
   "source": [
    "len(fullTransparentIcons)"
   ]
  },
  {
   "cell_type": "code",
   "execution_count": 121,
   "metadata": {},
   "outputs": [],
   "source": [
    "import urllib.request"
   ]
  },
  {
   "cell_type": "code",
   "execution_count": 130,
   "metadata": {},
   "outputs": [],
   "source": [
    "names = displayNames[:378]\n",
    "icons = fullTransparentIcons[:378]\n",
    "\n",
    "for name, icon in zip(names, icons):\n",
    "    import os\n",
    "import urllib.request\n",
    "\n",
    "for name, icon in zip(names, icons):\n",
    "    name = re.sub(r'[?/*\\\\¯ツ<>]', '', name)\n",
    "    filename = name + \".png\"\n",
    "    urllib.request.urlretrieve(icon, filename)\n",
    "    "
   ]
  }
 ],
 "metadata": {
  "language_info": {
   "name": "python"
  },
  "orig_nbformat": 4
 },
 "nbformat": 4,
 "nbformat_minor": 2
}
